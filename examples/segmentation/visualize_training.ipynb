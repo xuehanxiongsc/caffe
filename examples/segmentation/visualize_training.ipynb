{
 "cells": [
  {
   "cell_type": "code",
   "execution_count": null,
   "metadata": {
    "collapsed": false
   },
   "outputs": [],
   "source": [
    "import pandas as pd\n",
    "%matplotlib inline\n",
    "import matplotlib.pyplot as plt\n",
    "\n",
    "train_log = pd.read_csv(\"./fcn32_train.log.train\")\n",
    "test_log = pd.read_csv(\"./fcn32_train.log.test\")\n",
    "_, ax1 = plt.subplots(figsize=(15, 10))\n",
    "ax2 = ax1.twinx()\n",
    "ax1.plot(train_log[\"NumIters\"], train_log[\"SoftmaxWithLoss1\"], alpha=0.4)\n",
    "ax1.plot(test_log[\"NumIters\"], test_log[\"SoftmaxWithLoss1\"], 'g', alpha=0.4)\n",
    "# ax2.plot(train_log[\"NumIters\"], train_log[\"Accuracy1\"], alpha=0.4)\n",
    "# ax2.plot(test_log[\"NumIters\"], test_log[\"Accuracy1\"], 'g',alpha=0.4)\n",
    "ax1.set_xlabel('iteration')\n",
    "ax1.set_ylabel('softmax loss')\n",
    "# ax2.set_xlabel('iteration')\n",
    "# ax2.set_ylabel('accuracy')\n",
    "plt.show()"
   ]
  },
  {
   "cell_type": "code",
   "execution_count": null,
   "metadata": {
    "collapsed": true
   },
   "outputs": [],
   "source": []
  }
 ],
 "metadata": {
  "kernelspec": {
   "display_name": "Python 2",
   "language": "python",
   "name": "python2"
  },
  "language_info": {
   "codemirror_mode": {
    "name": "ipython",
    "version": 2
   },
   "file_extension": ".py",
   "mimetype": "text/x-python",
   "name": "python",
   "nbconvert_exporter": "python",
   "pygments_lexer": "ipython2",
   "version": "2.7.12"
  }
 },
 "nbformat": 4,
 "nbformat_minor": 1
}
